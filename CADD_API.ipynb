{
 "cells": [
  {
   "cell_type": "markdown",
   "metadata": {},
   "source": [
    "## Description and Instructions\n",
    "This workbook uses the [API described by the University of Washington](https://cadd.gs.washington.edu/api) to access [CADD](https://cadd.gs.washington.edu).\n",
    "The API is experimental, and settings within this notebook should not be changed unless absolutely necessary."
   ]
  },
  {
   "cell_type": "markdown",
   "metadata": {},
   "source": [
    "**Step 1**: Import file of coordinates.  The file must be a single column text file in the format chr:position\n",
    "\n",
    "* Example:\n",
    "\n",
    "        5:2003402\n",
    "        5:2003609\n",
    "        \n"
   ]
  },
  {
   "cell_type": "code",
   "execution_count": 9,
   "metadata": {},
   "outputs": [],
   "source": [
    "coordsList = []\n",
    "FILENAME = 'debugCADD.txt'\n",
    "with open(FILENAME, 'r') as fOpen:\n",
    "    for i in fOpen:\n",
    "        i = i.rstrip('\\r\\n')\n",
    "        coordsList.append(i)"
   ]
  },
  {
   "cell_type": "code",
   "execution_count": 5,
   "metadata": {},
   "outputs": [
    {
     "name": "stdout",
     "output_type": "stream",
     "text": [
      "  % Total    % Received % Xferd  Average Speed   Time    Time     Time  Current\n",
      "                                 Dload  Upload   Total   Spent    Left  Speed\n",
      "100   413  100   413    0     0   1728      0 --:--:-- --:--:-- --:--:--  1728\n"
     ]
    }
   ],
   "source": [
    "# simple bash implementation that is also useful for debugging\n",
    "# output will be in the file 'urlOut.json.txt'\n",
    "!curl -i -L https://cadd.gs.washington.edu/api/v1.0/v1.3/5:2003402 > urlOut.json.txt"
   ]
  },
  {
   "cell_type": "code",
   "execution_count": 28,
   "metadata": {},
   "outputs": [
    {
     "name": "stdout",
     "output_type": "stream",
     "text": [
      "\n",
      "\n",
      "\n",
      "HTTP response:\n",
      "[{'Alt': 'A', 'Chrom': '5', 'PHRED': '0.850', 'Pos': '2003402', 'RawScore': '-0.251851', 'Ref': 'C'}, {'Alt': 'G', 'Chrom': '5', 'PHRED': '0.462', 'Pos': '2003402', 'RawScore': '-0.367938', 'Ref': 'C'}, {'Alt': 'T', 'Chrom': '5', 'PHRED': '0.845', 'Pos': '2003402', 'RawScore': '-0.253154', 'Ref': 'C'}]\n",
      "{'Alt': 'A', 'Chrom': '5', 'PHRED': '0.850', 'Pos': '2003402', 'RawScore': '-0.251851', 'Ref': 'C'}\n",
      "Alt,A\n",
      "Chrom,5\n",
      "PHRED,0.850\n",
      "Pos,2003402\n",
      "RawScore,-0.251851\n",
      "Ref,C\n",
      "{'Alt': 'G', 'Chrom': '5', 'PHRED': '0.462', 'Pos': '2003402', 'RawScore': '-0.367938', 'Ref': 'C'}\n",
      "Alt,G\n",
      "Chrom,5\n",
      "PHRED,0.462\n",
      "Pos,2003402\n",
      "RawScore,-0.367938\n",
      "Ref,C\n",
      "{'Alt': 'T', 'Chrom': '5', 'PHRED': '0.845', 'Pos': '2003402', 'RawScore': '-0.253154', 'Ref': 'C'}\n",
      "Alt,T\n",
      "Chrom,5\n",
      "PHRED,0.845\n",
      "Pos,2003402\n",
      "RawScore,-0.253154\n",
      "Ref,C\n",
      "HTTP response:\n",
      "[{'Alt': 'A', 'Chrom': '5', 'PHRED': '2.062', 'Pos': '2003609', 'RawScore': '-0.058167', 'Ref': 'C'}, {'Alt': 'G', 'Chrom': '5', 'PHRED': '1.274', 'Pos': '2003609', 'RawScore': '-0.168552', 'Ref': 'C'}, {'Alt': 'T', 'Chrom': '5', 'PHRED': '1.971', 'Pos': '2003609', 'RawScore': '-0.069169', 'Ref': 'C'}]\n",
      "{'Alt': 'A', 'Chrom': '5', 'PHRED': '2.062', 'Pos': '2003609', 'RawScore': '-0.058167', 'Ref': 'C'}\n",
      "Alt,A\n",
      "Chrom,5\n",
      "PHRED,2.062\n",
      "Pos,2003609\n",
      "RawScore,-0.058167\n",
      "Ref,C\n",
      "{'Alt': 'G', 'Chrom': '5', 'PHRED': '1.274', 'Pos': '2003609', 'RawScore': '-0.168552', 'Ref': 'C'}\n",
      "Alt,G\n",
      "Chrom,5\n",
      "PHRED,1.274\n",
      "Pos,2003609\n",
      "RawScore,-0.168552\n",
      "Ref,C\n",
      "{'Alt': 'T', 'Chrom': '5', 'PHRED': '1.971', 'Pos': '2003609', 'RawScore': '-0.069169', 'Ref': 'C'}\n",
      "Alt,T\n",
      "Chrom,5\n",
      "PHRED,1.971\n",
      "Pos,2003609\n",
      "RawScore,-0.069169\n",
      "Ref,C\n",
      "Q:2200369\tERROR\n",
      "[]\n"
     ]
    }
   ],
   "source": [
    "import requests, sys\n",
    "import time\n",
    "import random\n",
    "\n",
    "\n",
    "def lookupOnCADD(cID):\n",
    "    # The documentation explicitly stated that it was experimental ONLY\n",
    "    # the next 2 lines are required unless you want to be the person responsible for crashing a server\n",
    "    n = random.random() + 1.5\n",
    "    time.sleep(n)\n",
    "    server = \"https://cadd.gs.washington.edu/api/v1.0/v1.3/\"\n",
    "    # the requests line is the actual query. \n",
    "    # it forms a string https://cadd.gs.washington.edu/api/v1.0/v1.3/cID where cID is the identifier passed to the function\n",
    "    # then submits this as an HTTP GET request, and returns the result as a JSON file.\n",
    "    q = server+cID\n",
    "    r = requests.get(q, headers={ \"Content-Type\" : \"application/json\"})\n",
    "    if not r.ok:\n",
    "        # if there's an error in the HTTP request, print it with the identifier.\n",
    "        # usually this is from a position that cannot be found\n",
    "        print(str(cID)+\"\\t\"+\"ERROR\")\n",
    "        return (None, 0)\n",
    "    else:\n",
    "        decoded = r.json()\n",
    "        if not decoded:\n",
    "            # if there's an error parsing the JSON, output the identifier and the error.  \n",
    "            # Note that this will be rare, or indicative of a connection/network problem\n",
    "            print(\"Error decoding JSON for \" + str(cID))\n",
    "            return (None, -1)\n",
    "        else:\n",
    "            # if there are no errors, return the JSON object\n",
    "            return (1, decoded)\n",
    "\n",
    "# The data from lookupOnCADD() will be in JSON format as [{k1:val1, k2:val2,...}, {k1:val1, k2:val2},...]\n",
    "# this is one of many ways to output it, beliow is one example.\n",
    "# Note that even though the JSON dict ordering will be static, \n",
    "# do NOT rely on this, since Python randomly shuffles the order of dict keys!\n",
    "for i in coordsList:\n",
    "    res = lookupOnCADD(i)\n",
    "    if res[0]:\n",
    "        for itm in res[1]:\n",
    "            for k,v in itm.items():\n",
    "                print(k + ',' + v)"
   ]
  }
 ],
 "metadata": {
  "kernelspec": {
   "display_name": "Python 3",
   "language": "python",
   "name": "python3"
  },
  "language_info": {
   "codemirror_mode": {
    "name": "ipython",
    "version": 3
   },
   "file_extension": ".py",
   "mimetype": "text/x-python",
   "name": "python",
   "nbconvert_exporter": "python",
   "pygments_lexer": "ipython3",
   "version": "3.7.3"
  }
 },
 "nbformat": 4,
 "nbformat_minor": 2
}
